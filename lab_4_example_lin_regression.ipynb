{
 "cells": [
  {
   "cell_type": "markdown",
   "id": "cb141546",
   "metadata": {
    "toc": true
   },
   "source": [
    "<h1>Table of Contents<span class=\"tocSkip\"></span></h1>\n",
    "<div class=\"toc\"><ul class=\"toc-item\"></ul></div>"
   ]
  },
  {
   "cell_type": "code",
   "execution_count": null,
   "id": "79b42723",
   "metadata": {},
   "outputs": [],
   "source": [
    "import numpy as np\n",
    "from sklearn.linear_model import LinearRegression\n",
    "import scipy as sp\n",
    "import matplotlib.pyplot as plt\n",
    "from scipy.optimize import fsolve\n",
    "import pandas as pd\n",
    "import math\n",
    "import operator\n",
    "import seaborn as sns\n",
    "import matplotlib.pyplot as plt\n",
    "from scipy.optimize import fsolve"
   ]
  },
  {
   "cell_type": "code",
   "execution_count": 3,
   "id": "2fa33aff",
   "metadata": {},
   "outputs": [],
   "source": [
    "##### построение моделей линейной регрессии см. https://realpython.com/linear-regression-in-python/"
   ]
  },
  {
   "cell_type": "code",
   "execution_count": 4,
   "id": "cfbe9e48",
   "metadata": {},
   "outputs": [
    {
     "ename": "NameError",
     "evalue": "name 'sns' is not defined",
     "output_type": "error",
     "traceback": [
      "\u001b[1;31m---------------------------------------------------------------------------\u001b[0m",
      "\u001b[1;31mNameError\u001b[0m                                 Traceback (most recent call last)",
      "Cell \u001b[1;32mIn[4], line 2\u001b[0m\n\u001b[0;32m      1\u001b[0m \u001b[38;5;66;03m#### загружаем набор данных \"Ирисы Фишера\"\u001b[39;00m\n\u001b[1;32m----> 2\u001b[0m iris_set \u001b[38;5;241m=\u001b[39m \u001b[43msns\u001b[49m\u001b[38;5;241m.\u001b[39mload_dataset(\u001b[38;5;124m\"\u001b[39m\u001b[38;5;124miris\u001b[39m\u001b[38;5;124m\"\u001b[39m)\n\u001b[0;32m      3\u001b[0m \u001b[38;5;66;03m### описание набора данных\u001b[39;00m\n\u001b[0;32m      4\u001b[0m \u001b[38;5;66;03m### sepal- чашелистник\u001b[39;00m\n\u001b[0;32m      5\u001b[0m \u001b[38;5;66;03m### petal - лепесток\u001b[39;00m\n\u001b[0;32m      6\u001b[0m \u001b[38;5;66;03m### species setosa - сорт щетинистый\u001b[39;00m\n\u001b[0;32m      7\u001b[0m \u001b[38;5;66;03m### species versicolour - сорт разноцветный\u001b[39;00m\n\u001b[0;32m      8\u001b[0m \u001b[38;5;66;03m### species virginica - сорт виржиника\u001b[39;00m\n",
      "\u001b[1;31mNameError\u001b[0m: name 'sns' is not defined"
     ]
    }
   ],
   "source": [
    "#### загружаем набор данных \"Ирисы Фишера\"\n",
    "iris_set = sns.load_dataset(\"iris\")\n",
    "### описание набора данных\n",
    "### sepal- чашелистник\n",
    "### petal - лепесток\n",
    "### species setosa - сорт щетинистый\n",
    "### species versicolour - сорт разноцветный\n",
    "### species virginica - сорт виржиника"
   ]
  },
  {
   "cell_type": "code",
   "execution_count": 37,
   "id": "9d8763fd",
   "metadata": {},
   "outputs": [
    {
     "name": "stdout",
     "output_type": "stream",
     "text": [
      "     sepal_length  sepal_width  petal_length  petal_width    species\n",
      "0             5.1          3.5           1.4          0.2     setosa\n",
      "1             4.9          3.0           1.4          0.2     setosa\n",
      "2             4.7          3.2           1.3          0.2     setosa\n",
      "3             4.6          3.1           1.5          0.2     setosa\n",
      "4             5.0          3.6           1.4          0.2     setosa\n",
      "..            ...          ...           ...          ...        ...\n",
      "145           6.7          3.0           5.2          2.3  virginica\n",
      "146           6.3          2.5           5.0          1.9  virginica\n",
      "147           6.5          3.0           5.2          2.0  virginica\n",
      "148           6.2          3.4           5.4          2.3  virginica\n",
      "149           5.9          3.0           5.1          1.8  virginica\n",
      "\n",
      "[150 rows x 5 columns]\n"
     ]
    }
   ],
   "source": [
    "print(iris_set)"
   ]
  },
  {
   "cell_type": "code",
   "execution_count": 38,
   "id": "97acba95",
   "metadata": {},
   "outputs": [
    {
     "name": "stdout",
     "output_type": "stream",
     "text": [
      "setosa\n",
      "versicolor\n",
      "virginica\n"
     ]
    },
    {
     "name": "stderr",
     "output_type": "stream",
     "text": [
      "C:\\Users\\admin\\AppData\\Local\\Temp/ipykernel_1072/2652975625.py:4: FutureWarning: Dropping of nuisance columns in DataFrame reductions (with 'numeric_only=None') is deprecated; in a future version this will raise TypeError.  Select only valid columns before calling the reduction.\n",
      "  class_feature_means[c] = rows.mean()\n",
      "C:\\Users\\admin\\AppData\\Local\\Temp/ipykernel_1072/2652975625.py:4: FutureWarning: Dropping of nuisance columns in DataFrame reductions (with 'numeric_only=None') is deprecated; in a future version this will raise TypeError.  Select only valid columns before calling the reduction.\n",
      "  class_feature_means[c] = rows.mean()\n",
      "C:\\Users\\admin\\AppData\\Local\\Temp/ipykernel_1072/2652975625.py:4: FutureWarning: Dropping of nuisance columns in DataFrame reductions (with 'numeric_only=None') is deprecated; in a future version this will raise TypeError.  Select only valid columns before calling the reduction.\n",
      "  class_feature_means[c] = rows.mean()\n"
     ]
    },
    {
     "data": {
      "text/html": [
       "<div>\n",
       "<style scoped>\n",
       "    .dataframe tbody tr th:only-of-type {\n",
       "        vertical-align: middle;\n",
       "    }\n",
       "\n",
       "    .dataframe tbody tr th {\n",
       "        vertical-align: top;\n",
       "    }\n",
       "\n",
       "    .dataframe thead th {\n",
       "        text-align: right;\n",
       "    }\n",
       "</style>\n",
       "<table border=\"1\" class=\"dataframe\">\n",
       "  <thead>\n",
       "    <tr style=\"text-align: right;\">\n",
       "      <th></th>\n",
       "      <th>setosa</th>\n",
       "      <th>versicolor</th>\n",
       "      <th>virginica</th>\n",
       "    </tr>\n",
       "  </thead>\n",
       "  <tbody>\n",
       "    <tr>\n",
       "      <th>sepal_length</th>\n",
       "      <td>5.006</td>\n",
       "      <td>5.936</td>\n",
       "      <td>6.588</td>\n",
       "    </tr>\n",
       "    <tr>\n",
       "      <th>sepal_width</th>\n",
       "      <td>3.428</td>\n",
       "      <td>2.770</td>\n",
       "      <td>2.974</td>\n",
       "    </tr>\n",
       "    <tr>\n",
       "      <th>petal_length</th>\n",
       "      <td>1.462</td>\n",
       "      <td>4.260</td>\n",
       "      <td>5.552</td>\n",
       "    </tr>\n",
       "    <tr>\n",
       "      <th>petal_width</th>\n",
       "      <td>0.246</td>\n",
       "      <td>1.326</td>\n",
       "      <td>2.026</td>\n",
       "    </tr>\n",
       "  </tbody>\n",
       "</table>\n",
       "</div>"
      ],
      "text/plain": [
       "              setosa  versicolor  virginica\n",
       "sepal_length   5.006       5.936      6.588\n",
       "sepal_width    3.428       2.770      2.974\n",
       "petal_length   1.462       4.260      5.552\n",
       "petal_width    0.246       1.326      2.026"
      ]
     },
     "execution_count": 38,
     "metadata": {},
     "output_type": "execute_result"
    }
   ],
   "source": [
    "####  вычисляем средние значения длины и ширины чашелистников и лепестков для каждого сорта ирисов\n",
    "class_feature_means = pd.DataFrame()\n",
    "for c, rows in iris_set.groupby('species'):\n",
    "    class_feature_means[c] = rows.mean()\n",
    "    print(c)\n",
    "class_feature_means  "
   ]
  },
  {
   "cell_type": "code",
   "execution_count": 39,
   "id": "e11f4c5d",
   "metadata": {},
   "outputs": [],
   "source": [
    "### визуализация зависимости длины лепестка от длины чашелистника каждого сорта ирисов"
   ]
  },
  {
   "cell_type": "code",
   "execution_count": 40,
   "id": "0a65d442",
   "metadata": {},
   "outputs": [
    {
     "data": {
      "image/png": "[encoded data removed]",
      "text/plain": [
       "<Figure size 432x288 with 1 Axes>"
      ]
     },
     "metadata": {
      "needs_background": "light"
     },
     "output_type": "display_data"
    }
   ],
   "source": [
    "axes = plt.axes()\n",
    "axes.set_xlim([4, 8])         \n",
    "axes.set_ylim([0, 8])          \n",
    "legend = []\n",
    "plt.title('Линейная регрессия - Ирисы Фишера')\n",
    "x_lable='sepal_length'\n",
    "y_lable='petal_length'\n",
    "axes.set_xlabel(x_lable)             \n",
    "axes.set_ylabel(y_lable)  \n",
    "for c, rows in iris_set.groupby('species'):\n",
    "    plt.scatter(rows[x_lable], rows[y_lable])\n",
    "    legend.append(\"species=%s\" % c)\n",
    "plt.legend(legend, loc=\"upper left\")\n",
    "plt.grid()\n",
    "plt.show()"
   ]
  },
  {
   "cell_type": "code",
   "execution_count": 41,
   "id": "016e60c7",
   "metadata": {},
   "outputs": [],
   "source": [
    "#### подготовка данных для построения модели линейной регрессии\n",
    "x_lable='sepal_length'\n",
    "y_lable='petal_length'\n",
    "xxx=iris_set[x_lable].values"
   ]
  },
  {
   "cell_type": "code",
   "execution_count": 42,
   "id": "dca5ee9c",
   "metadata": {},
   "outputs": [],
   "source": [
    "### двумерная матрица x размерности (n * 1) содержит n наблюдаемых значений объясняющей переменной (фактора) x \n",
    "x= xxx.reshape((-1, 1))\n",
    "### вектор-столбец y содержит n наблюдаемых значений объясняемой переменной (результата) y \n",
    "y= iris_set[y_lable].values"
   ]
  },
  {
   "cell_type": "code",
   "execution_count": 43,
   "id": "539b2283",
   "metadata": {},
   "outputs": [
    {
     "data": {
      "text/plain": [
       "LinearRegression()"
      ]
     },
     "execution_count": 43,
     "metadata": {},
     "output_type": "execute_result"
    }
   ],
   "source": [
    "#### для построение модели линейной регрессии\n",
    "### объявляем, что model - объект класса LinearRegression\n",
    "model = LinearRegression()\n",
    "### вызываем метод fit для того чтобы методом наименьших квадратов обеспечить наилучшую подгонку линии регрессии \n",
    "### y^ = b₀^ +b₁^ * x к точкам поля наблюдений\n",
    "model.fit(x, y)"
   ]
  },
  {
   "cell_type": "code",
   "execution_count": 44,
   "id": "9721938c",
   "metadata": {},
   "outputs": [],
   "source": [
    "#### выводим оценки b₁^ и b₀^ параметров модели b₁ и b₀, найденные методом наименьших квадратов"
   ]
  },
  {
   "cell_type": "code",
   "execution_count": 45,
   "id": "6a726318",
   "metadata": {},
   "outputs": [
    {
     "name": "stdout",
     "output_type": "stream",
     "text": [
      "intercept: -7.101443369602455\n",
      "slope: [1.85843298]\n"
     ]
    }
   ],
   "source": [
    "b_0_hat=model.intercept_\n",
    "print('intercept:', b_0_hat) # b₀^\n",
    "b_1_hat=model.coef_\n",
    "print('slope:', b_1_hat) # b₁^"
   ]
  },
  {
   "cell_type": "code",
   "execution_count": 46,
   "id": "0cbe7d36",
   "metadata": {},
   "outputs": [
    {
     "name": "stdout",
     "output_type": "stream",
     "text": [
      "coefficient of determination: 0.759954645772515\n"
     ]
    }
   ],
   "source": [
    "#### выводим коэффициень детерминации модели, характеризуюший ее объясняющую способность.\n",
    "print('coefficient of determination:', model.score(x, y))"
   ]
  },
  {
   "cell_type": "code",
   "execution_count": 47,
   "id": "cb436e1e",
   "metadata": {},
   "outputs": [],
   "source": [
    "#### предсказание значений зависимой переменной  \"вручную\",  с помощью модели y^ = b₀^ +b₁^ * x\n",
    "y_hat = b_0_hat + b_1_hat * x\n",
    "y_hat =y_hat.reshape(-1)\n",
    "###print(f\"predicted response:\\n{y_hat}\")"
   ]
  },
  {
   "cell_type": "code",
   "execution_count": 48,
   "id": "0bf452bd",
   "metadata": {},
   "outputs": [
    {
     "name": "stdout",
     "output_type": "stream",
     "text": [
      "predicted response:\n",
      "[2.37656482 2.00487822 1.63319163 1.44734833 2.19072152 2.93409471\n",
      " 1.44734833 2.19072152 1.07566173 2.00487822 2.93409471 1.81903493\n",
      " 1.81903493 0.88981844 3.6774679  3.49162461 2.93409471 2.37656482\n",
      " 3.49162461 2.37656482 2.93409471 2.37656482 1.44734833 2.37656482\n",
      " 1.81903493 2.19072152 2.19072152 2.56240812 2.56240812 1.63319163\n",
      " 1.81903493 2.93409471 2.56240812 3.11993801 2.00487822 2.19072152\n",
      " 3.11993801 2.00487822 1.07566173 2.37656482 2.19072152 1.26150503\n",
      " 1.07566173 2.19072152 2.37656482 1.81903493 2.37656482 1.44734833\n",
      " 2.74825142 2.19072152 5.90758748 4.79252769 5.72174418 3.11993801\n",
      " 4.97837099 3.49162461 4.60668439 2.00487822 5.16421429 2.56240812\n",
      " 2.19072152 3.8633112  4.0491545  4.2349978  3.30578131 5.35005758\n",
      " 3.30578131 3.6774679  4.4208411  3.30578131 3.8633112  4.2349978\n",
      " 4.60668439 4.2349978  4.79252769 5.16421429 5.53590088 5.35005758\n",
      " 4.0491545  3.49162461 3.11993801 3.11993801 3.6774679  4.0491545\n",
      " 2.93409471 4.0491545  5.35005758 4.60668439 3.30578131 3.11993801\n",
      " 3.11993801 4.2349978  3.6774679  2.19072152 3.30578131 3.49162461\n",
      " 3.49162461 4.4208411  2.37656482 3.49162461 4.60668439 3.6774679\n",
      " 6.09343078 4.60668439 4.97837099 7.02264727 2.00487822 6.46511737\n",
      " 5.35005758 6.27927407 4.97837099 4.79252769 5.53590088 3.49162461\n",
      " 3.6774679  4.79252769 4.97837099 7.20849056 7.20849056 4.0491545\n",
      " 5.72174418 3.30578131 7.20849056 4.60668439 5.35005758 6.27927407\n",
      " 4.4208411  4.2349978  4.79252769 6.27927407 6.65096067 7.58017716\n",
      " 4.79252769 4.60668439 4.2349978  7.20849056 4.60668439 4.79252769\n",
      " 4.0491545  5.72174418 5.35005758 5.72174418 3.6774679  5.53590088\n",
      " 5.35005758 5.35005758 4.60668439 4.97837099 4.4208411  3.8633112 ]\n"
     ]
    }
   ],
   "source": [
    "#### предсказание значений зависимой переменной  с помощью метода  predict\n",
    "y_predict = model.predict(x)\n",
    "print(f\"predicted response:\\n{y_predict}\")"
   ]
  },
  {
   "cell_type": "code",
   "execution_count": 49,
   "id": "f558c490",
   "metadata": {},
   "outputs": [
    {
     "name": "stdout",
     "output_type": "stream",
     "text": [
      "[ True  True  True  True  True  True  True  True  True  True  True  True\n",
      "  True  True  True  True  True  True  True  True  True  True  True  True\n",
      "  True  True  True  True  True  True  True  True  True  True  True  True\n",
      "  True  True  True  True  True  True  True  True  True  True  True  True\n",
      "  True  True  True  True  True  True  True  True  True  True  True  True\n",
      "  True  True  True  True  True  True  True  True  True  True  True  True\n",
      "  True  True  True  True  True  True  True  True  True  True  True  True\n",
      "  True  True  True  True  True  True  True  True  True  True  True  True\n",
      "  True  True  True  True  True  True  True  True  True  True  True  True\n",
      "  True  True  True  True  True  True  True  True  True  True  True  True\n",
      "  True  True  True  True  True  True  True  True  True  True  True  True\n",
      "  True  True  True  True  True  True  True  True  True  True  True  True\n",
      "  True  True  True  True  True  True]\n"
     ]
    }
   ],
   "source": [
    "#### проверим, совпадают ли результаты предсказания, найденные \"вручную\", с результатами, получпенными методом predict\n",
    "print(y_hat==y_predict)"
   ]
  },
  {
   "cell_type": "code",
   "execution_count": 50,
   "id": "1651acd5",
   "metadata": {},
   "outputs": [
    {
     "data": {
      "text/plain": [
       "array([7.76602046, 8.69523695, 9.62445343])"
      ]
     },
     "execution_count": 50,
     "metadata": {},
     "output_type": "execute_result"
    }
   ],
   "source": [
    "#### зададим массив x_new, содержащий значений фактора x, \n",
    "#### для которых будут сделаны предсказания с помощью модели y^ = b₀^ +b₁^ * x\n",
    "x_new= np.array([8.0,8.5,9.0])\n",
    "x_new=x_new.reshape((-1,1))     \n",
    "y_new = model.predict(x_new)\n",
    "y_new"
   ]
  },
  {
   "cell_type": "code",
   "execution_count": 51,
   "id": "b7f9ec80",
   "metadata": {},
   "outputs": [
    {
     "data": {
      "image/png": "[encoded data removed]",
      "text/plain": [
       "<Figure size 432x288 with 1 Axes>"
      ]
     },
     "metadata": {
      "needs_background": "light"
     },
     "output_type": "display_data"
    }
   ],
   "source": [
    "#### нарисуем эмпирическую линию регрессии на поле наблюдений \n",
    "plt.scatter(x,y)\n",
    "plt.plot(x, model.predict(x), color='red', linewidth=2);"
   ]
  },
  {
   "cell_type": "code",
   "execution_count": 53,
   "id": "030727f2",
   "metadata": {},
   "outputs": [
    {
     "data": {
      "text/plain": [
       "-5.684341886080802e-14"
      ]
     },
     "execution_count": 53,
     "metadata": {},
     "output_type": "execute_result"
    }
   ],
   "source": [
    "errors=y-y_predict \n",
    "sum(errors)"
   ]
  },
  {
   "cell_type": "code",
   "execution_count": 54,
   "id": "ec65b217",
   "metadata": {},
   "outputs": [],
   "source": [
    "###############  проверка остатков регрессии на нормальность..."
   ]
  },
  {
   "cell_type": "code",
   "execution_count": 55,
   "id": "6b90ee83",
   "metadata": {},
   "outputs": [
    {
     "name": "stdout",
     "output_type": "stream",
     "text": [
      "ShapiroResult(statistic=0.994367778301239, pvalue=0.8309829831123352)\n"
     ]
    }
   ],
   "source": [
    "from scipy import stats\n",
    "rez=stats.shapiro(errors)\n",
    "print(rez)"
   ]
  },
  {
   "cell_type": "code",
   "execution_count": 56,
   "id": "dad64b1b",
   "metadata": {},
   "outputs": [
    {
     "name": "stdout",
     "output_type": "stream",
     "text": [
      "Jarque_beraResult(statistic=0.3861038239409937, pvalue=0.8244391747661011)\n"
     ]
    }
   ],
   "source": [
    "rez=stats.jarque_bera(errors)\n",
    "print(rez)"
   ]
  },
  {
   "cell_type": "code",
   "execution_count": 57,
   "id": "bcb0e082",
   "metadata": {},
   "outputs": [
    {
     "name": "stdout",
     "output_type": "stream",
     "text": [
      "NormaltestResult(statistic=0.2534063011020061, pvalue=0.880995156711368)\n"
     ]
    }
   ],
   "source": [
    "from scipy import stats\n",
    "rez=stats.normaltest(errors)\n",
    "print(rez)"
   ]
  },
  {
   "cell_type": "code",
   "execution_count": 58,
   "id": "6cf37fd7",
   "metadata": {},
   "outputs": [
    {
     "data": {
      "text/plain": [
       "[<matplotlib.lines.Line2D at 0x1964dbcebe0>]"
      ]
     },
     "execution_count": 58,
     "metadata": {},
     "output_type": "execute_result"
    },
    {
     "data": {
      "image/png": "[encoded data removed]",
      "text/plain": [
       "<Figure size 432x288 with 1 Axes>"
      ]
     },
     "metadata": {
      "needs_background": "light"
     },
     "output_type": "display_data"
    }
   ],
   "source": [
    "plt.plot( x,errors,'ro')"
   ]
  },
  {
   "cell_type": "code",
   "execution_count": 60,
   "id": "8a648ee4",
   "metadata": {},
   "outputs": [
    {
     "name": "stdout",
     "output_type": "stream",
     "text": [
      "ESS =  111.45915511981853\n"
     ]
    }
   ],
   "source": [
    "### вычисляем ESS = Errors Sum of Squares - сумму квадратов остатков (ошибок) регрессии\n",
    "ESS=sum(errors**2)\n",
    "print('ESS = ',ESS )"
   ]
  },
  {
   "cell_type": "code",
   "execution_count": 61,
   "id": "4f81e329",
   "metadata": {},
   "outputs": [
    {
     "name": "stdout",
     "output_type": "stream",
     "text": [
      "RSS =  352.8662448801818\n"
     ]
    }
   ],
   "source": [
    "### вычисляем RSS = Regression Sum of Squares -  регрессионную сумму квадратов\n",
    "RSS=sum((y_predict-np.mean(y_predict)) **2)\n",
    "print('RSS = ',RSS )"
   ]
  },
  {
   "cell_type": "code",
   "execution_count": 62,
   "id": "78fd79ef",
   "metadata": {},
   "outputs": [
    {
     "name": "stdout",
     "output_type": "stream",
     "text": [
      "TSS =  464.32540000000046\n"
     ]
    }
   ],
   "source": [
    "### вычисляем TSS = Total Sum of Squares -  полную сумму квадратов\n",
    "TSS=sum((y-np.mean(y)) **2)\n",
    "print('TSS = ',TSS )"
   ]
  },
  {
   "cell_type": "code",
   "execution_count": 63,
   "id": "5cc80126",
   "metadata": {},
   "outputs": [
    {
     "name": "stdout",
     "output_type": "stream",
     "text": [
      "ESS + RSS =  464.32540000000034\n"
     ]
    }
   ],
   "source": [
    "print('ESS + RSS = ',ESS+RSS )"
   ]
  },
  {
   "cell_type": "code",
   "execution_count": 64,
   "id": "9d412f42",
   "metadata": {},
   "outputs": [
    {
     "name": "stdout",
     "output_type": "stream",
     "text": [
      "R2 0.7599546457725155\n"
     ]
    }
   ],
   "source": [
    "R2=1-ESS/TSS\n",
    "print('R2',R2)"
   ]
  },
  {
   "cell_type": "code",
   "execution_count": 66,
   "id": "493cb0de",
   "metadata": {},
   "outputs": [
    {
     "data": {
      "text/html": [
       "<div>\n",
       "<style scoped>\n",
       "    .dataframe tbody tr th:only-of-type {\n",
       "        vertical-align: middle;\n",
       "    }\n",
       "\n",
       "    .dataframe tbody tr th {\n",
       "        vertical-align: top;\n",
       "    }\n",
       "\n",
       "    .dataframe thead th {\n",
       "        text-align: right;\n",
       "    }\n",
       "</style>\n",
       "<table border=\"1\" class=\"dataframe\">\n",
       "  <thead>\n",
       "    <tr style=\"text-align: right;\">\n",
       "      <th></th>\n",
       "      <th>sepal_length</th>\n",
       "      <th>sepal_width</th>\n",
       "      <th>petal_length</th>\n",
       "      <th>petal_width</th>\n",
       "      <th>species</th>\n",
       "    </tr>\n",
       "  </thead>\n",
       "  <tbody>\n",
       "    <tr>\n",
       "      <th>50</th>\n",
       "      <td>7.0</td>\n",
       "      <td>3.2</td>\n",
       "      <td>4.7</td>\n",
       "      <td>1.4</td>\n",
       "      <td>versicolor</td>\n",
       "    </tr>\n",
       "    <tr>\n",
       "      <th>51</th>\n",
       "      <td>6.4</td>\n",
       "      <td>3.2</td>\n",
       "      <td>4.5</td>\n",
       "      <td>1.5</td>\n",
       "      <td>versicolor</td>\n",
       "    </tr>\n",
       "    <tr>\n",
       "      <th>52</th>\n",
       "      <td>6.9</td>\n",
       "      <td>3.1</td>\n",
       "      <td>4.9</td>\n",
       "      <td>1.5</td>\n",
       "      <td>versicolor</td>\n",
       "    </tr>\n",
       "    <tr>\n",
       "      <th>53</th>\n",
       "      <td>5.5</td>\n",
       "      <td>2.3</td>\n",
       "      <td>4.0</td>\n",
       "      <td>1.3</td>\n",
       "      <td>versicolor</td>\n",
       "    </tr>\n",
       "    <tr>\n",
       "      <th>54</th>\n",
       "      <td>6.5</td>\n",
       "      <td>2.8</td>\n",
       "      <td>4.6</td>\n",
       "      <td>1.5</td>\n",
       "      <td>versicolor</td>\n",
       "    </tr>\n",
       "    <tr>\n",
       "      <th>...</th>\n",
       "      <td>...</td>\n",
       "      <td>...</td>\n",
       "      <td>...</td>\n",
       "      <td>...</td>\n",
       "      <td>...</td>\n",
       "    </tr>\n",
       "    <tr>\n",
       "      <th>145</th>\n",
       "      <td>6.7</td>\n",
       "      <td>3.0</td>\n",
       "      <td>5.2</td>\n",
       "      <td>2.3</td>\n",
       "      <td>virginica</td>\n",
       "    </tr>\n",
       "    <tr>\n",
       "      <th>146</th>\n",
       "      <td>6.3</td>\n",
       "      <td>2.5</td>\n",
       "      <td>5.0</td>\n",
       "      <td>1.9</td>\n",
       "      <td>virginica</td>\n",
       "    </tr>\n",
       "    <tr>\n",
       "      <th>147</th>\n",
       "      <td>6.5</td>\n",
       "      <td>3.0</td>\n",
       "      <td>5.2</td>\n",
       "      <td>2.0</td>\n",
       "      <td>virginica</td>\n",
       "    </tr>\n",
       "    <tr>\n",
       "      <th>148</th>\n",
       "      <td>6.2</td>\n",
       "      <td>3.4</td>\n",
       "      <td>5.4</td>\n",
       "      <td>2.3</td>\n",
       "      <td>virginica</td>\n",
       "    </tr>\n",
       "    <tr>\n",
       "      <th>149</th>\n",
       "      <td>5.9</td>\n",
       "      <td>3.0</td>\n",
       "      <td>5.1</td>\n",
       "      <td>1.8</td>\n",
       "      <td>virginica</td>\n",
       "    </tr>\n",
       "  </tbody>\n",
       "</table>\n",
       "<p>100 rows × 5 columns</p>\n",
       "</div>"
      ],
      "text/plain": [
       "     sepal_length  sepal_width  petal_length  petal_width     species\n",
       "50            7.0          3.2           4.7          1.4  versicolor\n",
       "51            6.4          3.2           4.5          1.5  versicolor\n",
       "52            6.9          3.1           4.9          1.5  versicolor\n",
       "53            5.5          2.3           4.0          1.3  versicolor\n",
       "54            6.5          2.8           4.6          1.5  versicolor\n",
       "..            ...          ...           ...          ...         ...\n",
       "145           6.7          3.0           5.2          2.3   virginica\n",
       "146           6.3          2.5           5.0          1.9   virginica\n",
       "147           6.5          3.0           5.2          2.0   virginica\n",
       "148           6.2          3.4           5.4          2.3   virginica\n",
       "149           5.9          3.0           5.1          1.8   virginica\n",
       "\n",
       "[100 rows x 5 columns]"
      ]
     },
     "execution_count": 66,
     "metadata": {},
     "output_type": "execute_result"
    }
   ],
   "source": [
    "##### строим модель зависимости длины лепестка от длины чашелистника по выборке, не содержащей данные по ирису щетинистому\n",
    "##########################\n",
    "iris_set = iris_set[iris_set.species !='setosa']\n",
    "iris_set"
   ]
  },
  {
   "cell_type": "code",
   "execution_count": 67,
   "id": "ec815366",
   "metadata": {},
   "outputs": [],
   "source": [
    "#### подготовка данных для построения модели линейной регрессии\n",
    "x_lable='sepal_length'\n",
    "y_lable='petal_length'\n",
    "xxx=iris_set[x_lable].values\n",
    "### матрица x размерности (n * 1) содержит n наблюдаемых значений объясняющей переменной (фактора) x \n",
    "x= xxx.reshape((-1, 1))\n",
    "### вектор-столбец y содержит n наблюдаемых значений объясняемой переменной (результата) y \n",
    "y= iris_set[y_lable].values"
   ]
  },
  {
   "cell_type": "code",
   "execution_count": 68,
   "id": "38163a6e",
   "metadata": {},
   "outputs": [
    {
     "data": {
      "text/plain": [
       "LinearRegression()"
      ]
     },
     "execution_count": 68,
     "metadata": {},
     "output_type": "execute_result"
    }
   ],
   "source": [
    "  #### для построение модели линейной регрессии\n",
    "### объявляем, что model - объект класса LinearRegression\n",
    "model = LinearRegression()\n",
    "### вызываем метод fit для того чтобы методом наименьших квадратов обеспечить наилучшую подгонку линии регрессии \n",
    "### y^ = b₀^ +b₁^ * x к точкам поля наблюдений\n",
    "model.fit(x, y)"
   ]
  },
  {
   "cell_type": "code",
   "execution_count": 69,
   "id": "07caa712",
   "metadata": {},
   "outputs": [
    {
     "name": "stdout",
     "output_type": "stream",
     "text": [
      "intercept: -1.5557132215672373\n",
      "slope: [1.03189288]\n"
     ]
    }
   ],
   "source": [
    "b_0_hat=model.intercept_\n",
    "print('intercept:', b_0_hat) # b₀^\n",
    "b_1_hat=model.coef_\n",
    "print('slope:', b_1_hat) # b₁^"
   ]
  },
  {
   "cell_type": "code",
   "execution_count": 70,
   "id": "d9cca228",
   "metadata": {},
   "outputs": [
    {
     "name": "stdout",
     "output_type": "stream",
     "text": [
      "coefficient of determination: 0.6863768933240111\n"
     ]
    }
   ],
   "source": [
    "#### выводим коэффициент детерминации модели, характеризуюший ее объясняющую способность.\n",
    "R2=model.score(x, y)\n",
    "print('coefficient of determination:', R2)"
   ]
  },
  {
   "cell_type": "code",
   "execution_count": 71,
   "id": "f1f13105",
   "metadata": {},
   "outputs": [
    {
     "data": {
      "image/png": "[encoded data removed]",
      "text/plain": [
       "<Figure size 432x288 with 1 Axes>"
      ]
     },
     "metadata": {
      "needs_background": "light"
     },
     "output_type": "display_data"
    }
   ],
   "source": [
    "#### нарисуем эмпирическую линию регрессии на поле наблюдений \n",
    "plt.scatter(x,y)\n",
    "plt.plot(x, model.predict(x), color='red', linewidth=2);"
   ]
  },
  {
   "cell_type": "code",
   "execution_count": 72,
   "id": "d5258eeb",
   "metadata": {},
   "outputs": [],
   "source": [
    "#### строим двуфакторную модель регрессии зависимости длины лепестка от длины и ширины чашелистника\n",
    "iris_set = sns.load_dataset(\"iris\")\n",
    "x_lable=['sepal_length', 'sepal_width']\n",
    "X2= iris_set[x_lable].values\n",
    "y= iris_set['petal_length'].values\n",
    "X_1= iris_set['sepal_length'].values\n",
    "X_2= iris_set['sepal_width'].values"
   ]
  },
  {
   "cell_type": "code",
   "execution_count": 75,
   "id": "371bd9f0",
   "metadata": {},
   "outputs": [
    {
     "name": "stdout",
     "output_type": "stream",
     "text": [
      "intercept: -2.524761511833406\n",
      "slope: [ 1.77559255 -1.33862329]\n",
      "coefficient of determination: 0.8676860089345193\n"
     ]
    }
   ],
   "source": [
    "model = LinearRegression()\n",
    "### вызываем метод fit для того чтобы методом наименьших квадратов обеспечить наилучшую подгонку модели  регрессии \n",
    "### y^ = b₀^ +b₁^ * x1 + b2^ * x2 к точкам поля наблюдений\n",
    "model.fit(X2, y)\n",
    "b_0_hat=model.intercept_\n",
    "print('intercept:', b_0_hat) # b₀^\n",
    "b_12_hat=model.coef_\n",
    "print('slope:', b_12_hat) # b₁^\n",
    "#### выводим коэффициент детерминации модели, характеризуюший ее объясняющую способность.\n",
    "print('coefficient of determination:', model.score(X2, y))"
   ]
  },
  {
   "cell_type": "code",
   "execution_count": 76,
   "id": "cd7012dc",
   "metadata": {},
   "outputs": [],
   "source": [
    "y_hat=b_0_hat+b_12_hat[0]*X_1+b_12_hat[1]*X_2"
   ]
  },
  {
   "cell_type": "code",
   "execution_count": 77,
   "id": "d92afe16",
   "metadata": {},
   "outputs": [
    {
     "data": {
      "text/plain": [
       "(3.7580000000000005, 3.7580000000000005)"
      ]
     },
     "execution_count": 77,
     "metadata": {},
     "output_type": "execute_result"
    }
   ],
   "source": [
    "(np.mean(y),np.mean(y_hat))"
   ]
  },
  {
   "cell_type": "code",
   "execution_count": 78,
   "id": "f1ef0ca4",
   "metadata": {},
   "outputs": [],
   "source": [
    "e=y-y_hat"
   ]
  },
  {
   "cell_type": "code",
   "execution_count": 79,
   "id": "c7175d58",
   "metadata": {},
   "outputs": [
    {
     "data": {
      "text/plain": [
       "150"
      ]
     },
     "execution_count": 79,
     "metadata": {},
     "output_type": "execute_result"
    }
   ],
   "source": [
    "n_size=len(y)\n",
    "S_e_2=np.sum(e*e)/(n_size-3)\n",
    "S_e=math.sqrt(S_e_2)\n",
    "\n",
    "n_size"
   ]
  },
  {
   "cell_type": "code",
   "execution_count": 80,
   "id": "9f6cd454",
   "metadata": {},
   "outputs": [],
   "source": [
    "X_matr=np.ones((n_size, 3))\n",
    "###X_matr\n",
    "for i in range(n_size):\n",
    "    X_matr[i][1]=X_1[i]\n",
    "    X_matr[i][2]=X_2[i]"
   ]
  },
  {
   "cell_type": "code",
   "execution_count": 81,
   "id": "e833d757",
   "metadata": {},
   "outputs": [],
   "source": [
    "## X_matr"
   ]
  },
  {
   "cell_type": "code",
   "execution_count": 82,
   "id": "07853c55",
   "metadata": {},
   "outputs": [],
   "source": [
    "X_matr_trans=X_matr.transpose()"
   ]
  },
  {
   "cell_type": "code",
   "execution_count": 83,
   "id": "8a30e12a",
   "metadata": {},
   "outputs": [
    {
     "data": {
      "text/plain": [
       "array([[1. , 1. , 1. , 1. , 1. , 1. , 1. , 1. , 1. , 1. , 1. , 1. , 1. ,\n",
       "        1. , 1. , 1. , 1. , 1. , 1. , 1. , 1. , 1. , 1. , 1. , 1. , 1. ,\n",
       "        1. , 1. , 1. , 1. , 1. , 1. , 1. , 1. , 1. , 1. , 1. , 1. , 1. ,\n",
       "        1. , 1. , 1. , 1. , 1. , 1. , 1. , 1. , 1. , 1. , 1. , 1. , 1. ,\n",
       "        1. , 1. , 1. , 1. , 1. , 1. , 1. , 1. , 1. , 1. , 1. , 1. , 1. ,\n",
       "        1. , 1. , 1. , 1. , 1. , 1. , 1. , 1. , 1. , 1. , 1. , 1. , 1. ,\n",
       "        1. , 1. , 1. , 1. , 1. , 1. , 1. , 1. , 1. , 1. , 1. , 1. , 1. ,\n",
       "        1. , 1. , 1. , 1. , 1. , 1. , 1. , 1. , 1. , 1. , 1. , 1. , 1. ,\n",
       "        1. , 1. , 1. , 1. , 1. , 1. , 1. , 1. , 1. , 1. , 1. , 1. , 1. ,\n",
       "        1. , 1. , 1. , 1. , 1. , 1. , 1. , 1. , 1. , 1. , 1. , 1. , 1. ,\n",
       "        1. , 1. , 1. , 1. , 1. , 1. , 1. , 1. , 1. , 1. , 1. , 1. , 1. ,\n",
       "        1. , 1. , 1. , 1. , 1. , 1. , 1. ],\n",
       "       [5.1, 4.9, 4.7, 4.6, 5. , 5.4, 4.6, 5. , 4.4, 4.9, 5.4, 4.8, 4.8,\n",
       "        4.3, 5.8, 5.7, 5.4, 5.1, 5.7, 5.1, 5.4, 5.1, 4.6, 5.1, 4.8, 5. ,\n",
       "        5. , 5.2, 5.2, 4.7, 4.8, 5.4, 5.2, 5.5, 4.9, 5. , 5.5, 4.9, 4.4,\n",
       "        5.1, 5. , 4.5, 4.4, 5. , 5.1, 4.8, 5.1, 4.6, 5.3, 5. , 7. , 6.4,\n",
       "        6.9, 5.5, 6.5, 5.7, 6.3, 4.9, 6.6, 5.2, 5. , 5.9, 6. , 6.1, 5.6,\n",
       "        6.7, 5.6, 5.8, 6.2, 5.6, 5.9, 6.1, 6.3, 6.1, 6.4, 6.6, 6.8, 6.7,\n",
       "        6. , 5.7, 5.5, 5.5, 5.8, 6. , 5.4, 6. , 6.7, 6.3, 5.6, 5.5, 5.5,\n",
       "        6.1, 5.8, 5. , 5.6, 5.7, 5.7, 6.2, 5.1, 5.7, 6.3, 5.8, 7.1, 6.3,\n",
       "        6.5, 7.6, 4.9, 7.3, 6.7, 7.2, 6.5, 6.4, 6.8, 5.7, 5.8, 6.4, 6.5,\n",
       "        7.7, 7.7, 6. , 6.9, 5.6, 7.7, 6.3, 6.7, 7.2, 6.2, 6.1, 6.4, 7.2,\n",
       "        7.4, 7.9, 6.4, 6.3, 6.1, 7.7, 6.3, 6.4, 6. , 6.9, 6.7, 6.9, 5.8,\n",
       "        6.8, 6.7, 6.7, 6.3, 6.5, 6.2, 5.9],\n",
       "       [3.5, 3. , 3.2, 3.1, 3.6, 3.9, 3.4, 3.4, 2.9, 3.1, 3.7, 3.4, 3. ,\n",
       "        3. , 4. , 4.4, 3.9, 3.5, 3.8, 3.8, 3.4, 3.7, 3.6, 3.3, 3.4, 3. ,\n",
       "        3.4, 3.5, 3.4, 3.2, 3.1, 3.4, 4.1, 4.2, 3.1, 3.2, 3.5, 3.6, 3. ,\n",
       "        3.4, 3.5, 2.3, 3.2, 3.5, 3.8, 3. , 3.8, 3.2, 3.7, 3.3, 3.2, 3.2,\n",
       "        3.1, 2.3, 2.8, 2.8, 3.3, 2.4, 2.9, 2.7, 2. , 3. , 2.2, 2.9, 2.9,\n",
       "        3.1, 3. , 2.7, 2.2, 2.5, 3.2, 2.8, 2.5, 2.8, 2.9, 3. , 2.8, 3. ,\n",
       "        2.9, 2.6, 2.4, 2.4, 2.7, 2.7, 3. , 3.4, 3.1, 2.3, 3. , 2.5, 2.6,\n",
       "        3. , 2.6, 2.3, 2.7, 3. , 2.9, 2.9, 2.5, 2.8, 3.3, 2.7, 3. , 2.9,\n",
       "        3. , 3. , 2.5, 2.9, 2.5, 3.6, 3.2, 2.7, 3. , 2.5, 2.8, 3.2, 3. ,\n",
       "        3.8, 2.6, 2.2, 3.2, 2.8, 2.8, 2.7, 3.3, 3.2, 2.8, 3. , 2.8, 3. ,\n",
       "        2.8, 3.8, 2.8, 2.8, 2.6, 3. , 3.4, 3.1, 3. , 3.1, 3.1, 3.1, 2.7,\n",
       "        3.2, 3.3, 3. , 2.5, 3. , 3.4, 3. ]])"
      ]
     },
     "execution_count": 83,
     "metadata": {},
     "output_type": "execute_result"
    }
   ],
   "source": [
    "X_matr_trans"
   ]
  },
  {
   "cell_type": "code",
   "execution_count": 88,
   "id": "bb964c6c",
   "metadata": {},
   "outputs": [
    {
     "name": "stdout",
     "output_type": "stream",
     "text": [
      "[[ 150.    876.5   458.6 ]\n",
      " [ 876.5  5223.85 2673.43]\n",
      " [ 458.6  2673.43 1430.4 ]]\n"
     ]
    }
   ],
   "source": [
    "import numpy as np\n",
    "from scipy import linalg\n",
    "Z=X_matr_trans.dot(X_matr)\n",
    "print(Z)\n",
    "###\n",
    "Z_inv =linalg.inv(Z)"
   ]
  },
  {
   "cell_type": "code",
   "execution_count": 85,
   "id": "620cbbc1",
   "metadata": {},
   "outputs": [],
   "source": [
    "EEE=Z.dot(Z_inv)"
   ]
  },
  {
   "cell_type": "code",
   "execution_count": 89,
   "id": "4a898fec",
   "metadata": {},
   "outputs": [
    {
     "data": {
      "text/plain": [
       "array([[ 1.00000000e+00, -9.41437213e-16,  3.02561833e-15],\n",
       "       [-2.64628527e-14,  1.00000000e+00,  1.41577835e-14],\n",
       "       [ 1.80821092e-14, -7.00372618e-15,  1.00000000e+00]])"
      ]
     },
     "execution_count": 89,
     "metadata": {},
     "output_type": "execute_result"
    }
   ],
   "source": [
    "EEE"
   ]
  },
  {
   "cell_type": "code",
   "execution_count": 90,
   "id": "8cdcbac0",
   "metadata": {},
   "outputs": [],
   "source": [
    "se_b_0_hat=S_e*math.sqrt(Z_inv[0][0])"
   ]
  },
  {
   "cell_type": "code",
   "execution_count": 91,
   "id": "ee2d5ed1",
   "metadata": {},
   "outputs": [],
   "source": [
    "se_b_1_hat=S_e*math.sqrt(Z_inv[1][1])"
   ]
  },
  {
   "cell_type": "code",
   "execution_count": 92,
   "id": "f4e79bad",
   "metadata": {},
   "outputs": [],
   "source": [
    "se_b_2_hat=S_e*math.sqrt(Z_inv[2][2])"
   ]
  },
  {
   "cell_type": "code",
   "execution_count": 93,
   "id": "b2b4198a",
   "metadata": {},
   "outputs": [
    {
     "data": {
      "text/plain": [
       "(0.5634396596051613, 0.06440502791825113, 0.12235775955536096)"
      ]
     },
     "execution_count": 93,
     "metadata": {},
     "output_type": "execute_result"
    }
   ],
   "source": [
    "(se_b_0_hat,se_b_1_hat,se_b_2_hat)"
   ]
  },
  {
   "cell_type": "code",
   "execution_count": null,
   "id": "5352f9e0",
   "metadata": {},
   "outputs": [],
   "source": []
  }
 ],
 "metadata": {
  "kernelspec": {
   "display_name": "Python 3",
   "language": "python",
   "name": "python3"
  },
  "language_info": {
   "codemirror_mode": {
    "name": "ipython",
    "version": 3
   },
   "file_extension": ".py",
   "mimetype": "text/x-python",
   "name": "python",
   "nbconvert_exporter": "python",
   "pygments_lexer": "ipython3",
   "version": "3.12.6"
  },
  "toc": {
   "base_numbering": 1,
   "nav_menu": {},
   "number_sections": true,
   "sideBar": true,
   "skip_h1_title": false,
   "title_cell": "Table of Contents",
   "title_sidebar": "Contents",
   "toc_cell": true,
   "toc_position": {},
   "toc_section_display": true,
   "toc_window_display": false
  }
 },
 "nbformat": 4,
 "nbformat_minor": 5
}
